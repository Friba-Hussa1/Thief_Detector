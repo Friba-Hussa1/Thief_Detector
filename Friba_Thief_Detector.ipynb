{
 "cells": [
  {
   "cell_type": "markdown",
   "metadata": {
    "id": "8EWEKPkdPAT-"
   },
   "source": [
    "# Thief Detector\n",
    "## This task tests your Image Processing skills to build a motion detection algorithm that alarms you when you have an unwanted visitor in your home."
   ]
  },
  {
   "cell_type": "markdown",
   "metadata": {
    "id": "09phoe5RPAUA"
   },
   "source": [
    "## Steps\n",
    "- 1. Get the live video feed from your webcam\n",
    "- 2. Fix a scene (the place you want to monitor) and store it as a reference background image\n",
    "    - Store the first frame as the reference background frame\n",
    "- 3. For every frame, check if there is any unwanted object inside the scene you are monitoring\n",
    "    - Use **Background Subtraction** concept (**cv2.absdiff( )**)\n",
    "        - Subtract the current frame from the reference background image(frame) to see the changes in the scene\n",
    "        - If there is enormous amount of pixels distrubed in the subtraction result image\n",
    "            - unwanted visitor (place is unsafe --> alarm the authorities)\n",
    "        - If there is no enormous amount of pixels distrubed in the subtraction result image\n",
    "            - no unwanted visitor (place is safe)\n",
    "- 4. Output the text **\"UNSAFE\"** in **red** color on the top right of the frame when there is an intruder in the scene.\n",
    "- 5. Save the live feed\n",
    "- 6. Submit the (.ipynb) file"
   ]
  },
  {
   "cell_type": "markdown",
   "metadata": {
    "id": "Irys6I72PAUA"
   },
   "source": [
    "## Get live video feed from webcam [10 points]"
   ]
  },
  {
   "cell_type": "code",
   "execution_count": 7,
   "metadata": {
    "colab": {
     "base_uri": "https://localhost:8080/"
    },
    "id": "Hj6uYEbSQppd",
    "outputId": "ad31acde-f38e-4e2a-f9e0-f6c7a7e4031f"
   },
   "outputs": [
    {
     "name": "stdout",
     "output_type": "stream",
     "text": [
      "Requirement already satisfied: opencv-python in c:\\users\\farih\\anaconda3\\lib\\site-packages (4.11.0.86)\n",
      "Requirement already satisfied: numpy>=1.21.2 in c:\\users\\farih\\anaconda3\\lib\\site-packages (from opencv-python) (1.26.4)\n",
      "Note: you may need to restart the kernel to use updated packages.\n"
     ]
    }
   ],
   "source": [
    "pip install opencv-python"
   ]
  },
  {
   "cell_type": "code",
   "execution_count": 8,
   "metadata": {
    "colab": {
     "base_uri": "https://localhost:8080/"
    },
    "id": "sBsuEuRqRuZb",
    "outputId": "3755550e-5ca2-46e6-9c14-f7473d058bc9"
   },
   "outputs": [
    {
     "name": "stdout",
     "output_type": "stream",
     "text": [
      "Webcam accessed successfully.\n"
     ]
    }
   ],
   "source": [
    "import cv2\n",
    "\n",
    "cap = cv2.VideoCapture(0)  # Try with camera index 0\n",
    "if not cap.isOpened():\n",
    "    print(\"Error: Could not access the webcam.\")\n",
    "else:\n",
    "    print(\"Webcam accessed successfully.\")\n",
    "    ret, frame = cap.read()\n",
    "    if ret:\n",
    "        cv2.imshow(\"Test\", frame)\n",
    "        cv2.waitKey(0)\n",
    "    else:\n",
    "        print(\"Error: Could not read frame.\")\n",
    "cap.release()\n",
    "cv2.destroyAllWindows()\n"
   ]
  },
  {
   "cell_type": "code",
   "execution_count": 9,
   "metadata": {
    "id": "-I_YfyPIRzzI"
   },
   "outputs": [],
   "source": [
    "cap = cv2.VideoCapture(0)  # Open webcam"
   ]
  },
  {
   "cell_type": "code",
   "execution_count": null,
   "metadata": {
    "colab": {
     "base_uri": "https://localhost:8080/"
    },
    "id": "sIy46G95AV2c",
    "outputId": "dba2e66d-0603-4e8b-f809-91a36a23a79e"
   },
   "outputs": [],
   "source": [
    "while True:\n",
    "    ret, frame = cap.read()  # Read frame\n",
    "\n",
    "    if not ret:\n",
    "        print(\"Error: Could not read frame.\")\n",
    "        break\n",
    "\n",
    "    gray_frame = cv2.cvtColor(frame, cv2.COLOR_BGR2GRAY)  # Convert to grayscale\n",
    "\n",
    "    cv2.imshow(\"Grayscale Video\", gray_frame)  # Show grayscale video\n",
    "\n",
    "    if cv2.waitKey(1) & 0xFF == ord('q'):  # Press 'q' to exit\n",
    "        break\n",
    "\n",
    "cap.release()\n",
    "cv2.destroyAllWindows()"
   ]
  },
  {
   "cell_type": "code",
   "execution_count": null,
   "metadata": {
    "colab": {
     "base_uri": "https://localhost:8080/"
    },
    "id": "jVK70BgxAX1F",
    "outputId": "d4a557ae-71c3-401a-d09d-87164b893c30"
   },
   "outputs": [],
   "source": [
    "import numpy as np\n",
    "cap = cv2.VideoCapture(0)  # Open webcam\n",
    "reference_frame = None  # Store the first frame\n",
    "\n",
    "while True:\n",
    "    ret, frame = cap.read()\n",
    "    if not ret:\n",
    "        print(\"Error: Could not read frame.\")\n",
    "        break\n",
    "\n",
    "    frame = cv2.resize(frame, (640, 480))  # Resize for consistency\n",
    "    gray_frame = cv2.cvtColor(frame, cv2.COLOR_BGR2GRAY)  # Convert to grayscale\n",
    "    gray_frame = cv2.GaussianBlur(gray_frame, (21, 21), 0)  # Reduce noise\n",
    "\n",
    "    if reference_frame is None:\n",
    "        reference_frame = gray_frame  # Set the first frame as the reference\n",
    "        continue\n",
    "\n",
    "    frame_diff = cv2.absdiff(reference_frame, gray_frame)  # Find differences\n",
    "    _, thresh = cv2.threshold(frame_diff, 25, 255, cv2.THRESH_BINARY)  # Apply threshold\n",
    "    thresh = cv2.dilate(thresh, None, iterations=2)  # Highlight changes\n",
    "\n",
    "    non_zero_pixels = cv2.countNonZero(thresh)  # Count motion pixels\n",
    "\n",
    "    # Display status (SAFE or UNSAFE)\n",
    "    text = \"SAFE\"\n",
    "    color = (0, 255, 0)  # Green\n",
    "    if non_zero_pixels > 5000:  # If significant motion is detected\n",
    "        text = \"UNSAFE\"\n",
    "        color = (0, 0, 255)  # Red\n",
    "\n",
    "    cv2.putText(frame, text, (10, 50), cv2.FONT_HERSHEY_SIMPLEX, 1, color, 2)\n",
    "    cv2.imshow(\"Thief Detector\", frame)  # Show video\n",
    "\n",
    "    if cv2.waitKey(1) & 0xFF == ord('q'):  # Press 'q' to exit\n",
    "        break\n",
    "\n",
    "cap.release()\n",
    "cv2.destroyAllWindows()"
   ]
  },
  {
   "cell_type": "markdown",
   "metadata": {
    "id": "8GZ86BSSPAUB"
   },
   "source": [
    "## Read first frame, convert to Grayscale and store it as reference background image [10 points]"
   ]
  },
  {
   "cell_type": "code",
   "execution_count": null,
   "metadata": {
    "colab": {
     "base_uri": "https://localhost:8080/"
    },
    "id": "0-gv95DEPAUC",
    "outputId": "4487f9fb-0ce2-4b86-db90-5f1f91e137d2"
   },
   "outputs": [],
   "source": [
    "# prompt: Read first frame, convert to Grayscale and store it as reference background image\n",
    "\n",
    "# Assuming 'cap' is already initialized as a VideoCapture object.\n",
    "ret, frame = cap.read()\n",
    "\n",
    "if ret:\n",
    "    reference_frame = cv2.cvtColor(frame, cv2.COLOR_BGR2GRAY)\n",
    "    # You can optionally save the reference frame to a file:\n",
    "    #cv2.imwrite(\"reference_background.jpg\", reference_frame)\n",
    "else:\n",
    "    print(\"Error: Could not read the first frame.\")\n"
   ]
  },
  {
   "cell_type": "markdown",
   "metadata": {
    "id": "Naw4CkFyPAUC"
   },
   "source": [
    "\n",
    "## Compute Absolute Difference between Current and First frame [20 points]"
   ]
  },
  {
   "cell_type": "code",
   "execution_count": null,
   "metadata": {
    "colab": {
     "base_uri": "https://localhost:8080/"
    },
    "id": "3cMp7mBSPAUC",
    "outputId": "a2e027f0-3bb2-4f22-c939-dda5a094f702"
   },
   "outputs": [],
   "source": [
    "ret, frame = cap.read()\n",
    "if ret:\n",
    "    gray_frame = cv2.cvtColor(frame, cv2.COLOR_BGR2GRAY)\n",
    "else:\n",
    "    print(\"Error: Could not read frame.\")\n",
    "    gray_frame = None  # Handle the case where frame reading fails\n",
    "\n",
    "# Now, calculate the absolute difference if gray_frame is valid\n",
    "if gray_frame is not None:\n",
    "    frame_diff = cv2.absdiff(reference_frame, gray_frame)  # Find differences\n",
    "else:\n",
    "    frame_diff = None  # Or handle the error appropriately\n"
   ]
  },
  {
   "cell_type": "markdown",
   "metadata": {
    "id": "lhryaO5xPAUC"
   },
   "source": [
    "## Apply threshold [5 points]"
   ]
  },
  {
   "cell_type": "code",
   "execution_count": null,
   "metadata": {
    "id": "DVD7m5vhPAUC"
   },
   "outputs": [],
   "source": []
  },
  {
   "cell_type": "markdown",
   "metadata": {
    "id": "btFb9vsWPAUD"
   },
   "source": [
    "## Find contours [10 points]"
   ]
  },
  {
   "cell_type": "code",
   "execution_count": null,
   "metadata": {
    "colab": {
     "base_uri": "https://localhost:8080/"
    },
    "id": "8A8c_EfYPAUD",
    "outputId": "7144c36f-1b91-4c0c-a898-e03b3ce74992"
   },
   "outputs": [],
   "source": [
    "import cv2\n",
    "import numpy as np\n",
    "\n",
    "# ... (Your existing code to initialize camera and reference frame) ...\n",
    "\n",
    "while True:  # or whatever loop you were using before\n",
    "    ret, frame = cap.read()\n",
    "    if not ret:\n",
    "        print(\"Error: Could not read frame.\")\n",
    "        break\n",
    "\n",
    "    # ... (Your existing code for preprocessing) ...\n",
    "\n",
    "    # ## Find contours [10 points]\n",
    "    contours, _ = cv2.findContours(thresh, cv2.RETR_EXTERNAL, cv2.CHAIN_APPROX_SIMPLE)\n",
    "\n",
    "    for contour in contours:\n",
    "        if cv2.contourArea(contour) > 1000:  # Filter small contours (adjust threshold as needed)\n",
    "            (x, y, w, h) = cv2.boundingRect(contour)\n",
    "            cv2.rectangle(frame, (x, y), (x + w, y + h), (0, 255, 0), 2)\n",
    "\n",
    "    # ... (Rest of your existing code to display and handle exit) ...\n",
    "\n",
    "# ... (Your existing code to release camera) ...\n"
   ]
  },
  {
   "cell_type": "markdown",
   "metadata": {
    "id": "7sE7z8fHPAUD"
   },
   "source": [
    "## Check if contourArea is large and draw rectangle around the object, output \"UNSAFE\" text in red color [30 points]"
   ]
  },
  {
   "cell_type": "code",
   "execution_count": null,
   "metadata": {
    "colab": {
     "base_uri": "https://localhost:8080/"
    },
    "id": "tJRMkhHJPAUE",
    "outputId": "a8774405-4f2f-4441-ab7c-7219196518e1"
   },
   "outputs": [],
   "source": [
    "# ... (Your existing code to initialize camera and reference frame) ...\n",
    "\n",
    "while True:  # or whatever loop you were using before\n",
    "    ret, frame = cap.read()\n",
    "    if not ret:\n",
    "        print(\"Error: Could not read frame.\")\n",
    "        break\n",
    "\n",
    "    # ... (Your existing code for preprocessing) ...\n",
    "\n",
    "    # ## Find contours [10 points]\n",
    "    contours, _ = cv2.findContours(thresh, cv2.RETR_EXTERNAL, cv2.CHAIN_APPROX_SIMPLE)\n",
    "\n",
    "    # Check if contourArea is large and draw rectangle around the object, output \"UNSAFE\" text in red color\n",
    "    for contour in contours:\n",
    "        if cv2.contourArea(contour) > 1000:  # Filter small contours (adjust threshold as needed)\n",
    "            (x, y, w, h) = cv2.boundingRect(contour)\n",
    "            cv2.rectangle(frame, (x, y), (x + w, y + h), (0, 0, 255), 2) # red rectangle\n",
    "            cv2.putText(frame, \"UNSAFE\", (x, y - 10), cv2.FONT_HERSHEY_SIMPLEX, 0.9, (0, 0, 255), 2) # red text\n",
    "\n",
    "\n",
    "    # ... (Rest of your existing code to display and handle exit) ...\n",
    "\n",
    "# ... (Your existing code to release camera) ..."
   ]
  },
  {
   "cell_type": "markdown",
   "metadata": {
    "id": "PoXIDjrnPAUE"
   },
   "source": [
    "## Display images [10 points]"
   ]
  },
  {
   "cell_type": "code",
   "execution_count": null,
   "metadata": {
    "colab": {
     "base_uri": "https://localhost:8080/"
    },
    "id": "OQ3K4_ugPAUE",
    "outputId": "2221c99c-8cdb-4846-d82c-d94501f9f1b9"
   },
   "outputs": [],
   "source": [
    "from google.colab.patches import cv2_imshow  # Import cv2_imshow\n",
    "\n",
    "# ... (Your existing code to initialize camera and reference frame) ...\n",
    "\n",
    "# Read and process one frame before the display loop\n",
    "ret, frame = cap.read()\n",
    "if not ret:\n",
    "    print(\"Error: Could not read frame.\")\n",
    "    # Handle the error appropriately, maybe exit the script\n",
    "else:\n",
    "    # ... (Your existing code for preprocessing this initial frame) ...\n",
    "    while True:  # or whatever loop you were using before # Indent this line\n",
    "        ret, frame = cap.read()\n",
    "        if not ret:\n",
    "            print(\"Error: Could not read frame.\")\n",
    "            break\n",
    "\n",
    "        # ... (Your existing code for preprocessing) ...\n",
    "\n",
    "        # Assuming 'frame' contains the processed image with rectangles and text\n",
    "\n",
    "        # Display the image using cv2_imshow\n",
    "        cv2_imshow(frame)\n",
    "\n",
    "        # Wait for a key press and then close the window\n",
    "        if cv2.waitKey(1) & 0xFF == ord('q'):\n",
    "            break\n",
    "\n",
    "# ... (Rest of your existing code) ...\n"
   ]
  },
  {
   "cell_type": "markdown",
   "metadata": {
    "id": "88sQ-QIMPAUE"
   },
   "source": [
    "## Release objects [5 points]"
   ]
  },
  {
   "cell_type": "code",
   "execution_count": null,
   "metadata": {
    "id": "239V7tYuPAUF"
   },
   "outputs": [],
   "source": [
    "# prompt: release objects\n",
    "\n",
    "cap.release()\n",
    "cv2.destroyAllWindows()\n"
   ]
  },
  {
   "cell_type": "code",
   "execution_count": null,
   "metadata": {},
   "outputs": [],
   "source": []
  }
 ],
 "metadata": {
  "colab": {
   "provenance": []
  },
  "kernelspec": {
   "display_name": "Python 3 (ipykernel)",
   "language": "python",
   "name": "python3"
  },
  "language_info": {
   "codemirror_mode": {
    "name": "ipython",
    "version": 3
   },
   "file_extension": ".py",
   "mimetype": "text/x-python",
   "name": "python",
   "nbconvert_exporter": "python",
   "pygments_lexer": "ipython3",
   "version": "3.12.3"
  }
 },
 "nbformat": 4,
 "nbformat_minor": 4
}
